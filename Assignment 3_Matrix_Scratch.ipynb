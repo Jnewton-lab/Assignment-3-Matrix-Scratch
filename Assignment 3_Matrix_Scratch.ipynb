{
 "cells": [
  {
   "cell_type": "markdown",
   "metadata": {},
   "source": [
    "# When expressed in NumPy, it becomes as follows"
   ]
  },
  {
   "cell_type": "code",
   "execution_count": 1,
   "metadata": {
    "id": "FL144mKW8aRG"
   },
   "outputs": [],
   "source": [
    "\n",
    "import numpy as np\n",
    "a_ndarray = np.array([[-1, 2, 3], [4, -5, 6], [7, 8, -9]])\n",
    "b_ndarray = np.array([[0, 2, 1], [0, 2, -8], [2, 9, -1]])"
   ]
  },
  {
   "cell_type": "markdown",
   "metadata": {
    "id": "QaO6uT-TyewZ"
   },
   "source": [
    "# [Problem 1] Matrix product is calculated manually"
   ]
  },
  {
   "cell_type": "markdown",
   "metadata": {},
   "source": [
    "For matrix multiplication, the number of columns in the first matrix must be equal to the number of rows in the second matrix. The result matrix has the number of rows of the first and the number of columns of the second matrix."
   ]
  },
  {
   "cell_type": "markdown",
   "metadata": {},
   "source": [
    "### The Calculation process is  explain in markdown text"
   ]
  },
  {
   "cell_type": "markdown",
   "metadata": {
    "id": "6QGFVV99LGse"
   },
   "source": [
    "$$A =\\begin{bmatrix}-1, & 2, & 3\\\\4, & -5, & 6\\\\7, & 8, & -9\\end{bmatrix}$$,\n",
    "\n",
    "$$B =\\begin{bmatrix}0, & 2, & 1\\\\0, & 2, & -8\\\\2, & 9, & -1\\end{bmatrix}$$,\n",
    "\n",
    "$$AB =\\begin{bmatrix}0+0+6, & -2+4+27, &-1+(-16)+(-3)\\\\0+0+12, & 8+(-10)+54, & 4+40+(-6)\\\\0+0+(-18), & 14+16+(-81), & 7+(-64)+(-9)\\end{bmatrix}$$,\n",
    "\n",
    "$$AB =\\begin{bmatrix}6, & 29, & -20\\\\12, & 52, & 38\\\\-18, & -51, & -48\\end {bmatrix}$$"
   ]
  },
  {
   "cell_type": "markdown",
   "metadata": {
    "id": "BUtHhWgdyyTT"
   },
   "source": [
    "# [Problem 2] Calculation by NumPy function"
   ]
  },
  {
   "cell_type": "markdown",
   "metadata": {},
   "source": [
    "This matrix product of NumPy can be easily calculated using np.matmul()"
   ]
  },
  {
   "cell_type": "code",
   "execution_count": 7,
   "metadata": {
    "colab": {
     "base_uri": "https://localhost:8080/"
    },
    "id": "TRi5O6w5yxJn",
    "outputId": "d153a567-0c96-4f14-c633-afe4a393874c"
   },
   "outputs": [
    {
     "data": {
      "text/plain": [
       "array([[  6,  29, -20],\n",
       "       [ 12,  52,  38],\n",
       "       [-18, -51, -48]])"
      ]
     },
     "execution_count": 7,
     "metadata": {},
     "output_type": "execute_result"
    }
   ],
   "source": [
    "import  numpy  as np\n",
    "a_ndarray = np.array([[-1, 2, 3], [4, -5, 6], [7, 8, -9]])\n",
    "b_ndarray = np.array([[0, 2, 1], [0, 2, -8], [2, 9, -1]])\n",
    "np.matmul(a_ndarray,b_ndarray)"
   ]
  },
  {
   "cell_type": "markdown",
   "metadata": {
    "id": "PXSUqxGozCGb"
   },
   "source": [
    "# [Problem 3] Implementation of calculation of a certain element"
   ]
  },
  {
   "cell_type": "code",
   "execution_count": 8,
   "metadata": {
    "colab": {
     "base_uri": "https://localhost:8080/"
    },
    "id": "m7qbYJ1MzC1W",
    "outputId": "f22f62c7-89a4-435e-c0e6-a8e657deb765"
   },
   "outputs": [
    {
     "name": "stdout",
     "output_type": "stream",
     "text": [
      "The calculation of 0th row of matrix A and the 0th column of matrix B is: 6\n"
     ]
    }
   ],
   "source": [
    "\n",
    "print(f'The calculation of 0th row of matrix A and the 0th column of matrix B is:',a_ndarray[0,0] * b_ndarray[0,0] + a_ndarray[0,1] *b_ndarray[1,0] + a_ndarray[0,2] *b_ndarray[2,0])"
   ]
  },
  {
   "cell_type": "markdown",
   "metadata": {
    "id": "fRqQ8AzizH4M"
   },
   "source": [
    "# [Problem 4] Creating a function that performs matrix multiplication"
   ]
  },
  {
   "cell_type": "code",
   "execution_count": 9,
   "metadata": {
    "colab": {
     "base_uri": "https://localhost:8080/"
    },
    "id": "uJkjHe7PzLnu",
    "outputId": "99a7bf75-9968-4aca-cc02-8cdf9509c2ca"
   },
   "outputs": [
    {
     "name": "stdout",
     "output_type": "stream",
     "text": [
      "[[  6.  29. -20.]\n",
      " [ 12.  52.  38.]\n",
      " [-18. -51. -48.]]\n"
     ]
    }
   ],
   "source": [
    "import numpy as np\n",
    "def matrix_multiplication(matrix_A, matrix_B):\n",
    "    matrix = np.zeros(9)\n",
    "    product = matrix.reshape(3, 3)\n",
    "   \n",
    "    for x in range(len(matrix_A)):\n",
    "        for y in range(len(matrix_B[0])):\n",
    "            for z in range(len(matrix_B)):\n",
    "                product[x][y] += matrix_A[x][z] * matrix_B[z][y]\n",
    "    print(product)\n",
    "matrix_multiplication(a_ndarray, b_ndarray)"
   ]
  },
  {
   "cell_type": "markdown",
   "metadata": {
    "id": "SQmnTQ65zPMh"
   },
   "source": [
    "# [Problem 5] Judge the input whose calculation is not defined"
   ]
  },
  {
   "cell_type": "code",
   "execution_count": 7,
   "metadata": {
    "id": "H-xi7g3NzbjR"
   },
   "outputs": [],
   "source": [
    "d_ndarray_ = np.array([[-1, 2, 3], [4, -5, 6]])\n",
    "e_ndarray = np.array([[-9, 8, 7], [6, -5, 4]])"
   ]
  },
  {
   "cell_type": "code",
   "execution_count": 12,
   "metadata": {
    "colab": {
     "base_uri": "https://localhost:8080/"
    },
    "id": "LlILYUTjQDRx",
    "outputId": "b9e77d38-4dfb-4ecf-fa54-9f8f8a3dcecd"
   },
   "outputs": [
    {
     "name": "stdout",
     "output_type": "stream",
     "text": [
      "Sorry! the following matrices are not aligned!\n"
     ]
    }
   ],
   "source": [
    "d_ndarray = np.array([[-1, 2, 3], [4, -5, 6]])\n",
    "e_ndarray = np.array([[-9, 8, 7], [6, -5, 4]])\n",
    "\n",
    "if d_ndarray.shape[0] == e_ndarray.shape[1]:\n",
    "    print(product_of_matrix(d_ndarray, e_ndarray))\n",
    "else:\n",
    "    print(\"Sorry! the following matrices are not aligned!\")"
   ]
  },
  {
   "cell_type": "markdown",
   "metadata": {
    "id": "pDmhMQODzy41"
   },
   "source": [
    "# [Problem 6] Transposition"
   ]
  },
  {
   "cell_type": "markdown",
   "metadata": {},
   "source": [
    "Transposing one matrix allows you to calculate the matrix product.\n",
    "\n",
    "to do this we use the np.transpose() or .T attributes and calculate the matrix product."
   ]
  },
  {
   "cell_type": "code",
   "execution_count": null,
   "metadata": {
    "colab": {
     "base_uri": "https://localhost:8080/"
    },
    "id": "Isy5cedAz2qk",
    "outputId": "88b994a4-d0ad-40ae-fa4d-551a33ad17ba",
    "scrolled": true
   },
   "outputs": [
    {
     "name": "stdout",
     "output_type": "stream",
     "text": [
      "The product of the matrix when transposing matrix a is: \n"
     ]
    },
    {
     "data": {
      "text/plain": [
       "array([[ 14,  69, -40],\n",
       "       [ 16,  66,  34],\n",
       "       [-18, -63, -36]])"
      ]
     },
     "execution_count": 20,
     "metadata": {
      "tags": []
     },
     "output_type": "execute_result"
    }
   ],
   "source": [
    "print('The product of the matrix when transposing matrix a is: ')\n",
    "np.dot(a_ndarray.T,b_ndarray)"
   ]
  },
  {
   "cell_type": "code",
   "execution_count": null,
   "metadata": {},
   "outputs": [],
   "source": []
  },
  {
   "cell_type": "markdown",
   "metadata": {},
   "source": [
    "James M Bockarie"
   ]
  }
 ],
 "metadata": {
  "colab": {
   "collapsed_sections": [],
   "name": "Week2.3_Matrix product.ipynb",
   "provenance": []
  },
  "kernelspec": {
   "display_name": "Python 3",
   "language": "python",
   "name": "python3"
  },
  "language_info": {
   "codemirror_mode": {
    "name": "ipython",
    "version": 3
   },
   "file_extension": ".py",
   "mimetype": "text/x-python",
   "name": "python",
   "nbconvert_exporter": "python",
   "pygments_lexer": "ipython3",
   "version": "3.8.5"
  }
 },
 "nbformat": 4,
 "nbformat_minor": 1
}
